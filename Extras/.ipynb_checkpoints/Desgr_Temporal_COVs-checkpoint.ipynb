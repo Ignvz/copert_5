{
 "cells": [
  {
   "cell_type": "code",
   "execution_count": 715,
   "id": "a58403ee-8c9d-4636-bbfb-a111deff3af4",
   "metadata": {},
   "outputs": [],
   "source": [
    "import pandas as pd\n",
    "import matplotlib.pyplot as plt\n",
    "import numpy as np\n",
    "import seaborn as sns\n",
    "cont = \"Benzene (benzol)\"\n",
    "df = pd.read_excel('Emisiones 2020 VOC.xlsx',cont,index_col=None)"
   ]
  },
  {
   "cell_type": "code",
   "execution_count": null,
   "id": "b2011552-bc20-4d58-a92c-9cad3c4bdfc8",
   "metadata": {},
   "outputs": [],
   "source": []
  },
  {
   "cell_type": "code",
   "execution_count": 513,
   "id": "0859a173-9225-4ba0-9bb2-fea8d344db8f",
   "metadata": {},
   "outputs": [
    {
     "data": {
      "text/plain": [
       "291"
      ]
     },
     "execution_count": 513,
     "metadata": {},
     "output_type": "execute_result"
    }
   ],
   "source": [
    "round(df[((df[\"Categoría\"]==\"BUS RIG\")| (df[\"Categoría\"]==\"BUS ART\")) & (df[\"Ámbito\"]==\"Urbano\") & \n",
    "   (df[\"Región\"]==\"R13\")][2020].sum()/365)"
   ]
  },
  {
   "cell_type": "code",
   "execution_count": 514,
   "id": "10da7656-1d33-430a-bd0e-0dc76a026034",
   "metadata": {},
   "outputs": [
    {
     "data": {
      "text/plain": [
       "0"
      ]
     },
     "execution_count": 514,
     "metadata": {},
     "output_type": "execute_result"
    }
   ],
   "source": [
    "round(df[((df[\"Categoría\"]==\"BUS RIG\")| (df[\"Categoría\"]==\"BUS ART\")) & (df[\"Ámbito\"]==\"Interurbano\")& \n",
    "   (df[\"Región\"]==\"R13\")][2020].sum()/365)"
   ]
  },
  {
   "cell_type": "code",
   "execution_count": 515,
   "id": "be5543a1-df39-4649-84ae-d8bd0c82d4a1",
   "metadata": {},
   "outputs": [
    {
     "data": {
      "text/plain": [
       "65760"
      ]
     },
     "execution_count": 515,
     "metadata": {},
     "output_type": "execute_result"
    }
   ],
   "source": [
    "round(df[((df[\"Categoría\"]!=\"BUS RIG\")| (df[\"Categoría\"]!=\"BUS ART\")) & (df[\"Ámbito\"]==\"Urbano\") & \n",
    "   (df[\"Región\"]==\"R13\")][2020].sum()/365)"
   ]
  },
  {
   "cell_type": "code",
   "execution_count": 516,
   "id": "49e7100b-cbf0-4015-b43d-f677f4e59aa2",
   "metadata": {},
   "outputs": [
    {
     "data": {
      "text/plain": [
       "7627"
      ]
     },
     "execution_count": 516,
     "metadata": {},
     "output_type": "execute_result"
    }
   ],
   "source": [
    "round(df[((df[\"Categoría\"]!=\"BUS RIG\")| (df[\"Categoría\"]!=\"BUS ART\")) & (df[\"Ámbito\"]==\"Interurbano\")& \n",
    "   (df[\"Región\"]==\"R13\")][2020].sum()/365)"
   ]
  },
  {
   "cell_type": "code",
   "execution_count": 517,
   "id": "175a7992-af55-416c-acc5-237599fbbac5",
   "metadata": {},
   "outputs": [],
   "source": [
    "BUS = df[((df[\"Categoría\"]==\"BUS RIG\")| (df[\"Categoría\"]==\"BUS ART\")) & \n",
    "   (df[\"Región\"]==\"R13\")][2020].sum()\n",
    "CAM = df[((df[\"Categoría\"]==\"CAM LIV\")| (df[\"Categoría\"]==\"CAM MED\")) & \n",
    "   (df[\"Región\"]==\"R13\")][2020].sum()\n",
    "CAMP = df[((df[\"Categoría\"]==\"CAM PES\")) & \n",
    "   (df[\"Región\"]==\"R13\")][2020].sum()\n",
    "VLC = df[((df[\"Categoría\"]==\"VLC\")) & \n",
    "   (df[\"Región\"]==\"R13\")][2020].sum()\n",
    "VLP = df[((df[\"Categoría\"]==\"VLP\")) & \n",
    "   (df[\"Región\"]==\"R13\")][2020].sum()\n",
    "porcentaje_poly=0.00108795574"
   ]
  },
  {
   "cell_type": "code",
   "execution_count": 518,
   "id": "15c8570e-3a30-4810-8ce4-d15a8c83bf5d",
   "metadata": {},
   "outputs": [],
   "source": [
    "mes = pd.read_excel(\"Perfil_Mensual.xlsx\")\n",
    "sem = pd.read_csv(\"Perfil_Semanal.csv\")\n",
    "dia = pd.read_csv(\"Perfil_diario.csv\")"
   ]
  },
  {
   "cell_type": "code",
   "execution_count": 519,
   "id": "c829ce87-becf-41ba-9247-aecb927d9a46",
   "metadata": {},
   "outputs": [],
   "source": [
    "mes_bus = mes[\"BUS\"]*BUS*porcentaje_poly\n",
    "mes_cam = mes[\"CAM\"]*CAM*porcentaje_poly\n",
    "mes_camp = mes[\"CAMP\"]*CAMP*porcentaje_poly\n",
    "mes_vlc = mes[\"VLC\"]*VLC*porcentaje_poly\n",
    "mes_vlp = mes[\"VLP\"]*VLP*porcentaje_poly\n",
    "mes = pd.concat([mes[\"MES\"], mes_bus, mes_cam, mes_camp, mes_vlc, mes_vlp],axis=1)\n",
    "mes = mes.set_index(\"MES\")\n",
    "dia=dia.set_index(\"TipoD\")"
   ]
  },
  {
   "cell_type": "code",
   "execution_count": 742,
   "id": "ca9e74c6-e725-449e-a1e7-54f25c418e05",
   "metadata": {},
   "outputs": [
    {
     "data": {
      "text/html": [
       "<div>\n",
       "<style scoped>\n",
       "    .dataframe tbody tr th:only-of-type {\n",
       "        vertical-align: middle;\n",
       "    }\n",
       "\n",
       "    .dataframe tbody tr th {\n",
       "        vertical-align: top;\n",
       "    }\n",
       "\n",
       "    .dataframe thead th {\n",
       "        text-align: right;\n",
       "    }\n",
       "</style>\n",
       "<table border=\"1\" class=\"dataframe\">\n",
       "  <thead>\n",
       "    <tr style=\"text-align: right;\">\n",
       "      <th></th>\n",
       "      <th>BUS</th>\n",
       "      <th>CAM</th>\n",
       "      <th>CAMP</th>\n",
       "      <th>VLC</th>\n",
       "      <th>VLP</th>\n",
       "    </tr>\n",
       "    <tr>\n",
       "      <th>SEMANA</th>\n",
       "      <th></th>\n",
       "      <th></th>\n",
       "      <th></th>\n",
       "      <th></th>\n",
       "      <th></th>\n",
       "    </tr>\n",
       "  </thead>\n",
       "  <tbody>\n",
       "    <tr>\n",
       "      <th>LUNES</th>\n",
       "      <td>0.378205</td>\n",
       "      <td>0.526743</td>\n",
       "      <td>0.190963</td>\n",
       "      <td>19.394336</td>\n",
       "      <td>61.792638</td>\n",
       "    </tr>\n",
       "    <tr>\n",
       "      <th>MARTES</th>\n",
       "      <td>0.378205</td>\n",
       "      <td>0.526743</td>\n",
       "      <td>0.190963</td>\n",
       "      <td>19.394336</td>\n",
       "      <td>61.792638</td>\n",
       "    </tr>\n",
       "    <tr>\n",
       "      <th>MIÉRCOLES</th>\n",
       "      <td>0.378205</td>\n",
       "      <td>0.526743</td>\n",
       "      <td>0.190963</td>\n",
       "      <td>19.394336</td>\n",
       "      <td>61.792638</td>\n",
       "    </tr>\n",
       "    <tr>\n",
       "      <th>JUEVES</th>\n",
       "      <td>0.378205</td>\n",
       "      <td>0.526743</td>\n",
       "      <td>0.190963</td>\n",
       "      <td>19.394336</td>\n",
       "      <td>61.792638</td>\n",
       "    </tr>\n",
       "    <tr>\n",
       "      <th>VIERNES</th>\n",
       "      <td>0.378205</td>\n",
       "      <td>0.558729</td>\n",
       "      <td>0.206814</td>\n",
       "      <td>21.202478</td>\n",
       "      <td>66.246397</td>\n",
       "    </tr>\n",
       "    <tr>\n",
       "      <th>SÁBADO</th>\n",
       "      <td>0.270957</td>\n",
       "      <td>0.418246</td>\n",
       "      <td>0.182681</td>\n",
       "      <td>15.772865</td>\n",
       "      <td>62.615150</td>\n",
       "    </tr>\n",
       "    <tr>\n",
       "      <th>DOMINGO</th>\n",
       "      <td>0.226413</td>\n",
       "      <td>0.381334</td>\n",
       "      <td>0.147164</td>\n",
       "      <td>12.876013</td>\n",
       "      <td>45.314321</td>\n",
       "    </tr>\n",
       "  </tbody>\n",
       "</table>\n",
       "</div>"
      ],
      "text/plain": [
       "                BUS       CAM      CAMP        VLC        VLP\n",
       "SEMANA                                                       \n",
       "LUNES      0.378205  0.526743  0.190963  19.394336  61.792638\n",
       "MARTES     0.378205  0.526743  0.190963  19.394336  61.792638\n",
       "MIÉRCOLES  0.378205  0.526743  0.190963  19.394336  61.792638\n",
       "JUEVES     0.378205  0.526743  0.190963  19.394336  61.792638\n",
       "VIERNES    0.378205  0.558729  0.206814  21.202478  66.246397\n",
       "SÁBADO     0.270957  0.418246  0.182681  15.772865  62.615150\n",
       "DOMINGO    0.226413  0.381334  0.147164  12.876013  45.314321"
      ]
     },
     "execution_count": 742,
     "metadata": {},
     "output_type": "execute_result"
    }
   ],
   "source": [
    "MES = \"MARZO\"\n",
    "semana = mes.loc[MES,:]*sem/4\n",
    "semana.drop('SEMANA', inplace=True, axis=1)\n",
    "semana = semana.set_index(sem[\"SEMANA\"])\n",
    "semana"
   ]
  },
  {
   "cell_type": "code",
   "execution_count": 743,
   "id": "93550b32-55a9-40e8-b9ab-fdb798470f50",
   "metadata": {},
   "outputs": [],
   "source": [
    "TipoD = \"LJ\"\n",
    "diario = dia.loc[TipoD,:]\n",
    "diario = diario*semana.loc[\"LUNES\",:]\n",
    "diario.drop('Hora', inplace=True, axis=1)\n",
    "#diarioLJ = diarioLJ.set_index(dia.loc[TipoD,\"Hora\"])\n",
    "diario\n",
    "LJ = diario.sum(axis=\"columns\")\n",
    "LJ = pd.concat([LJ, dia.loc[TipoD,\"Hora\"]], axis=1)"
   ]
  },
  {
   "cell_type": "code",
   "execution_count": 744,
   "id": "2d4586f7-0fd2-46b6-9ca0-2154a5432dd8",
   "metadata": {},
   "outputs": [],
   "source": [
    "TipoD = \"V\"\n",
    "diario = dia.loc[TipoD,:]\n",
    "diario = diario*semana.loc[\"VIERNES\",:]\n",
    "diario.drop('Hora', inplace=True, axis=1)\n",
    "#diarioV = diarioLJ.set_index(dia.loc[TipoD,\"Hora\"])\n",
    "V = diario.sum(axis=\"columns\")\n",
    "V = pd.concat([V, dia.loc[TipoD,\"Hora\"]], axis=1)"
   ]
  },
  {
   "cell_type": "code",
   "execution_count": 745,
   "id": "7b82aea1-d773-48b9-977a-12e0ecd4edcc",
   "metadata": {},
   "outputs": [],
   "source": [
    "TipoD = \"S\"\n",
    "diario = dia.loc[TipoD,:]\n",
    "diario = diario*semana.loc[\"SÁBADO\",:]\n",
    "diario.drop('Hora', inplace=True, axis=1)\n",
    "#diario = diario.set_index(dia.loc[TipoD,\"Hora\"])\n",
    "S = diario.sum(axis=\"columns\")\n",
    "S = pd.concat([S, dia.loc[TipoD,\"Hora\"]], axis=1)\n"
   ]
  },
  {
   "cell_type": "code",
   "execution_count": 746,
   "id": "4dcf2a31-f0d4-4968-b7d2-172474539a36",
   "metadata": {},
   "outputs": [],
   "source": [
    "TipoD = \"D\"\n",
    "diario = dia.loc[TipoD,:]\n",
    "diario = diario*semana.loc[\"DOMINGO\",:]\n",
    "diario.drop('Hora', inplace=True, axis=1)\n",
    "#diarioD = diarioLJ.set_index(dia.loc[TipoD,\"Hora\"])\n",
    "D = diario.sum(axis=\"columns\")\n",
    "D = pd.concat([D, dia.loc[TipoD,\"Hora\"]], axis=1)\n",
    "#plt.plot(diarioD.sum(axis=\"columns\"))"
   ]
  },
  {
   "cell_type": "code",
   "execution_count": 747,
   "id": "448e9f1c-a720-49ec-befe-7367487aebdd",
   "metadata": {},
   "outputs": [],
   "source": [
    "from datetime import datetime, timedelta\n",
    "if MES == \"ENERO\": #29 EN - 2 FEB\n",
    "    R = pd.concat([V,S,D,LJ,LJ])\n",
    "    x = datetime(2021, 1, 29)\n",
    "    y = datetime(2021, 2, 2)\n",
    "    z = y - x\n",
    "elif MES == \"MARZO\": #17-28 MAR\n",
    "    R = pd.concat([LJ,LJ,V,S,D,LJ,LJ,LJ,LJ,V,S,D])\n",
    "    x = datetime(2021, 3, 17)\n",
    "    y = datetime(2021, 3, 28)\n",
    "    z = y - x\n",
    "elif MES == \"DICIEMBRE\": #11-30 DIC \n",
    "    R = pd.concat([S,D,LJ,LJ,LJ,LJ,V,S,D,LJ,LJ,LJ,LJ,\n",
    "                   V,S,D,LJ,LJ,LJ,LJ])\n",
    "    x = datetime(2021, 12, 11)\n",
    "    y = datetime(2021, 12, 30)\n",
    "    z = y - x"
   ]
  },
  {
   "cell_type": "code",
   "execution_count": 748,
   "id": "61ac4ba4-36fd-4ff6-a771-7f20d356e10d",
   "metadata": {},
   "outputs": [
    {
     "data": {
      "image/png": "[encoded data removed]",
      "text/plain": [
       "<Figure size 720x432 with 1 Axes>"
      ]
     },
     "metadata": {
      "needs_background": "light"
     },
     "output_type": "display_data"
    }
   ],
   "source": [
    "z.days\n",
    "a = {}\n",
    "for i in range((z.days + 1)*24):\n",
    "    a[i] = x + timedelta(hours=+i)\n",
    "    #print(timedelta(hours=+i))\n",
    "a = pd.DataFrame(a.items(), columns=['id', 'Date'])\n",
    "a.reset_index(inplace=True, drop=True)\n",
    "R.reset_index(inplace=True, drop=True)\n",
    "df = pd.concat([R,a[\"Date\"]], axis=1)\n",
    "plt.figure(figsize=(10,6), tight_layout=True)\n",
    "plt.title(cont)\n",
    "plt.xlabel('Date')\n",
    "plt.ylabel('[gr/yr]')\n",
    "plt.plot(df[\"Date\"],df[0],'-')\n",
    "plt.show()\n",
    "df.rename(columns={0: \"em\"}, inplace=True)\n",
    "df.drop('Hora', inplace=True, axis=1)\n",
    "name = MES+\"_\"+cont +\".csv\"\n",
    "df.to_csv(name, index=False)\n"
   ]
  },
  {
   "cell_type": "code",
   "execution_count": null,
   "id": "266bffa8-bbf3-4d6a-8a93-1540f648400f",
   "metadata": {},
   "outputs": [],
   "source": []
  }
 ],
 "metadata": {
  "kernelspec": {
   "display_name": "Python 3",
   "language": "python",
   "name": "python3"
  },
  "language_info": {
   "codemirror_mode": {
    "name": "ipython",
    "version": 3
   },
   "file_extension": ".py",
   "mimetype": "text/x-python",
   "name": "python",
   "nbconvert_exporter": "python",
   "pygments_lexer": "ipython3",
   "version": "3.8.8"
  }
 },
 "nbformat": 4,
 "nbformat_minor": 5
}

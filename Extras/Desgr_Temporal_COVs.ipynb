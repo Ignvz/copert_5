{
 "cells": [
  {
   "cell_type": "code",
   "execution_count": 25,
   "id": "ca9e74c6-e725-449e-a1e7-54f25c418e05",
   "metadata": {},
   "outputs": [],
   "source": [
    "def desagregar_temp(semana,dia,TipoDia,DIA):\n",
    "    diario = dia.loc[TipoDia,:]\n",
    "    diario = diario*semana.loc[DIA,:]\n",
    "    diario.drop('Hora', inplace=True, axis=1)\n",
    "    #diarioLJ = diarioLJ.set_index(dia.loc[TipoD,\"Hora\"])\n",
    "    d = diario.sum(axis=\"columns\")\n",
    "    d = pd.concat([d, dia.loc[TipoDia,\"Hora\"]], axis=1)\n",
    "    return d\n",
    "def crea_csv(MES, LJ, V, S, D, cont):\n",
    "    if MES == \"ENERO\": #29 EN - 2 FEB\n",
    "        R = pd.concat([V,S,D,LJ,LJ])\n",
    "        x = datetime(2021, 1, 29)\n",
    "        y = datetime(2021, 2, 2)\n",
    "        z = y - x\n",
    "    elif MES == \"MARZO\": #17-28 MAR\n",
    "        R = pd.concat([LJ,LJ,V,S,D,LJ,LJ,LJ,LJ*0.64,V*0.64,S*0.64,D*0.64])\n",
    "        x = datetime(2021, 3, 17)\n",
    "        y = datetime(2021, 3, 28)\n",
    "        z = y - x\n",
    "    elif MES == \"DICIEMBRE\": #11-30 DIC \n",
    "        R = pd.concat([S,D,LJ,LJ,LJ,LJ,V,S,D,LJ,LJ,LJ,LJ,\n",
    "                   V,S,D,LJ,LJ,LJ,LJ])\n",
    "        x = datetime(2021, 12, 11)\n",
    "        y = datetime(2021, 12, 30)\n",
    "        z = y - x\n",
    "    a = {}\n",
    "    for i in range((z.days + 1)*24):\n",
    "        a[i] = x + timedelta(hours=+i)\n",
    "        #print(timedelta(hours=+i))\n",
    "    a = pd.DataFrame(a.items(), columns=['id', 'Date'])\n",
    "    a.reset_index(inplace=True, drop=True)\n",
    "    R.reset_index(inplace=True, drop=True)\n",
    "    df = pd.concat([R,a[\"Date\"]], axis=1)\n",
    "    df.rename(columns={0: \"em [gr/hr]\"}, inplace=True)\n",
    "    df.drop('Hora', inplace=True, axis=1)\n",
    "    name = MES+\"_\"+cont +\".csv\"\n",
    "    df.to_csv(name, index=False)\n",
    "    return df\n"
   ]
  },
  {
   "cell_type": "code",
   "execution_count": 26,
   "id": "a58403ee-8c9d-4636-bbfb-a111deff3af4",
   "metadata": {},
   "outputs": [],
   "source": [
    "import pandas as pd\n",
    "import matplotlib.pyplot as plt\n",
    "import numpy as np\n",
    "import seaborn as sns\n",
    "from datetime import datetime, timedelta\n",
    "cont = \"Methylbenzene (toluene)\"\n",
    "df = pd.read_excel('Emisiones 2020 VOC.xlsx',cont,index_col=None)\n",
    "df2 = pd.read_excel(\"Emisiones 2020 VOC.xlsx\",index_col=None,sheet_name=None)\n",
    "mes = pd.read_excel(\"Perfil_Mensual.xlsx\")\n",
    "sem = pd.read_csv(\"Perfil_Semanal.csv\")\n",
    "dia = pd.read_csv(\"Perfil_diario.csv\")"
   ]
  },
  {
   "cell_type": "code",
   "execution_count": 27,
   "id": "b2011552-bc20-4d58-a92c-9cad3c4bdfc8",
   "metadata": {},
   "outputs": [],
   "source": [
    "mes = pd.read_excel(\"Perfil_Mensual.xlsx\")\n",
    "sem = pd.read_csv(\"Perfil_Semanal.csv\")\n",
    "dia = pd.read_csv(\"Perfil_diario.csv\")"
   ]
  },
  {
   "cell_type": "code",
   "execution_count": 28,
   "id": "0859a173-9225-4ba0-9bb2-fea8d344db8f",
   "metadata": {},
   "outputs": [
    {
     "data": {
      "text/plain": [
       "42"
      ]
     },
     "execution_count": 28,
     "metadata": {},
     "output_type": "execute_result"
    }
   ],
   "source": [
    "round(df[((df[\"Categoría\"]==\"BUS RIG\")| (df[\"Categoría\"]==\"BUS ART\")) & (df[\"Ámbito\"]==\"Urbano\") & \n",
    "   (df[\"Región\"]==\"R13\")][2020].sum()/365)"
   ]
  },
  {
   "cell_type": "code",
   "execution_count": 29,
   "id": "10da7656-1d33-430a-bd0e-0dc76a026034",
   "metadata": {},
   "outputs": [
    {
     "data": {
      "text/plain": [
       "0"
      ]
     },
     "execution_count": 29,
     "metadata": {},
     "output_type": "execute_result"
    }
   ],
   "source": [
    "round(df[((df[\"Categoría\"]==\"BUS RIG\")| (df[\"Categoría\"]==\"BUS ART\")) & (df[\"Ámbito\"]==\"Interurbano\")& \n",
    "   (df[\"Región\"]==\"R13\")][2020].sum()/365)"
   ]
  },
  {
   "cell_type": "code",
   "execution_count": 30,
   "id": "be5543a1-df39-4649-84ae-d8bd0c82d4a1",
   "metadata": {},
   "outputs": [
    {
     "data": {
      "text/plain": [
       "115935"
      ]
     },
     "execution_count": 30,
     "metadata": {},
     "output_type": "execute_result"
    }
   ],
   "source": [
    "round(df[((df[\"Categoría\"]!=\"BUS RIG\")| (df[\"Categoría\"]!=\"BUS ART\")) & (df[\"Ámbito\"]==\"Urbano\") & \n",
    "   (df[\"Región\"]==\"R13\")][2020].sum()/365)"
   ]
  },
  {
   "cell_type": "code",
   "execution_count": 31,
   "id": "49e7100b-cbf0-4015-b43d-f677f4e59aa2",
   "metadata": {},
   "outputs": [
    {
     "data": {
      "text/plain": [
       "13272"
      ]
     },
     "execution_count": 31,
     "metadata": {},
     "output_type": "execute_result"
    }
   ],
   "source": [
    "round(df[((df[\"Categoría\"]!=\"BUS RIG\")| (df[\"Categoría\"]!=\"BUS ART\")) & (df[\"Ámbito\"]==\"Interurbano\")& \n",
    "   (df[\"Región\"]==\"R13\")][2020].sum()/365)"
   ]
  },
  {
   "cell_type": "code",
   "execution_count": 32,
   "id": "175a7992-af55-416c-acc5-237599fbbac5",
   "metadata": {},
   "outputs": [],
   "source": [
    "for key,data in df2.items():\n",
    "#    print(key)\n",
    "    df = df2[key]\n",
    "    cont = key\n",
    "    BUS = df[((df[\"Categoría\"]==\"BUS RIG\")| (df[\"Categoría\"]==\"BUS ART\")) & \n",
    "       (df[\"Región\"]==\"R13\")][2021].sum()\n",
    "    CAM = df[((df[\"Categoría\"]==\"CAM LIV\")| (df[\"Categoría\"]==\"CAM MED\")) & \n",
    "       (df[\"Región\"]==\"R13\")][2021].sum()\n",
    "    CAMP = df[((df[\"Categoría\"]==\"CAM PES\")) & \n",
    "       (df[\"Región\"]==\"R13\")][2021].sum()\n",
    "    VLC = df[((df[\"Categoría\"]==\"VLC\")) & \n",
    "       (df[\"Región\"]==\"R13\")][2021].sum()\n",
    "    VLP = df[((df[\"Categoría\"]==\"VLP\")) & \n",
    "       (df[\"Región\"]==\"R13\")][2021].sum()\n",
    "    porcentaje_poly=0.00108795574\n",
    "    mes_bus = mes[\"BUS\"]*BUS*porcentaje_poly\n",
    "    mes_cam = mes[\"CAM\"]*CAM*porcentaje_poly\n",
    "    mes_camp = mes[\"CAMP\"]*CAMP*porcentaje_poly\n",
    "    mes_vlc = mes[\"VLC\"]*VLC*porcentaje_poly\n",
    "    mes_vlp = mes[\"VLP\"]*VLP*porcentaje_poly\n",
    "    mes_total = pd.concat([mes[\"MES\"], mes_bus, mes_cam, mes_camp, mes_vlc, mes_vlp],axis=1)\n",
    "    mes_total = mes_total.set_index(\"MES\")\n",
    "    dias=dia.set_index(\"TipoD\")\n",
    "    MESES = [\"ENERO\", \"MARZO\", \"DICIEMBRE\"]\n",
    "    for MES in MESES: \n",
    "#    MES = MESES[1]\n",
    "        semana = mes_total.loc[MES,:]*sem/4\n",
    "        semana.drop('SEMANA', inplace=True, axis=1)\n",
    "        semana = semana.set_index(sem[\"SEMANA\"])\n",
    "        LJ = desagregar_temp(semana,dias,\"LJ\",\"LUNES\")\n",
    "        V = desagregar_temp(semana,dias,\"V\",\"VIERNES\")\n",
    "        S = desagregar_temp(semana,dias,\"S\",\"SÁBADO\")\n",
    "        D = desagregar_temp(semana,dias,\"D\",\"DOMINGO\")\n",
    "        dff = crea_csv(MES, LJ, V, S, D, cont)"
   ]
  },
  {
   "cell_type": "code",
   "execution_count": null,
   "id": "15c8570e-3a30-4810-8ce4-d15a8c83bf5d",
   "metadata": {},
   "outputs": [],
   "source": []
  },
  {
   "cell_type": "code",
   "execution_count": 33,
   "id": "c829ce87-becf-41ba-9247-aecb927d9a46",
   "metadata": {},
   "outputs": [],
   "source": [
    "mes_bus = mes[\"BUS\"]*BUS*porcentaje_poly\n",
    "mes_cam = mes[\"CAM\"]*CAM*porcentaje_poly\n",
    "mes_camp = mes[\"CAMP\"]*CAMP*porcentaje_poly\n",
    "mes_vlc = mes[\"VLC\"]*VLC*porcentaje_poly\n",
    "mes_vlp = mes[\"VLP\"]*VLP*porcentaje_poly\n",
    "mes_total = pd.concat([mes[\"MES\"], mes_bus, mes_cam, mes_camp, mes_vlc, mes_vlp],axis=1)\n",
    "mes_total = mes_total.set_index(\"MES\")\n",
    "dias=dia.set_index(\"TipoD\")"
   ]
  },
  {
   "cell_type": "code",
   "execution_count": 34,
   "id": "448e9f1c-a720-49ec-befe-7367487aebdd",
   "metadata": {},
   "outputs": [],
   "source": [
    "MESES = [\"ENERO\", \"MARZO\", \"DICIEMBRE\"]\n",
    "for MES in MESES: \n",
    "#    MES = MESES[1]\n",
    "    semana = mes_total.loc[MES,:]*sem/4\n",
    "    semana.drop('SEMANA', inplace=True, axis=1)\n",
    "    semana = semana.set_index(sem[\"SEMANA\"])\n",
    "    LJ = desagregar_temp(semana,dias,\"LJ\",\"LUNES\")\n",
    "    V = desagregar_temp(semana,dias,\"V\",\"VIERNES\")\n",
    "    S = desagregar_temp(semana,dias,\"S\",\"SÁBADO\")\n",
    "    D = desagregar_temp(semana,dias,\"D\",\"DOMINGO\")\n",
    "    dff = crea_csv(MES, LJ, V, S, D, cont)\n"
   ]
  },
  {
   "cell_type": "code",
   "execution_count": 71,
   "id": "61ac4ba4-36fd-4ff6-a771-7f20d356e10d",
   "metadata": {},
   "outputs": [
    {
     "data": {
      "image/png": "[encoded data removed]",
      "text/plain": [
       "<Figure size 720x432 with 1 Axes>"
      ]
     },
     "metadata": {},
     "output_type": "display_data"
    }
   ],
   "source": [
    "plt.figure(figsize=(10,6), tight_layout=True)\n",
    "#plt.title()\n",
    "plt.xlabel('Date')\n",
    "plt.ylabel('[gr/hr]')\n",
    "sns.set_theme()\n",
    "\n",
    "\n",
    "Benzene = pd.read_csv(\"ENERO_Benzene (benzol).csv\")\n",
    "Benzene[\"Date\"] = pd.to_datetime(Benzene[\"Date\"], format='%Y-%m-%d %H:%M:%S')\n",
    "Toluene = pd.read_csv(\"ENERO_Methylbenzene (toluene).csv\")\n",
    "Toluene[\"Date\"] = pd.to_datetime(Toluene[\"Date\"], format='%Y-%m-%d %H:%M:%S')\n",
    "Benzene[\"cont\"] = \"Benzene\"\n",
    "Toluene[\"cont\"] = \"Toluene\"\n",
    "\n",
    "#plt.plot(Benzene[\"Date\"],Toluene[\"em [gr/hr]\"],label=\"Toluene\")\n",
    "plt.fill_between(Benzene[\"Date\"],Toluene[\"em [gr/hr]\"],label=\"Toluene\",alpha=1)\n",
    "#plt.plot(Benzene[\"Date\"],Benzene[\"em [gr/hr]\"],label=\"Benzene\",alpha=0.5)\n",
    "plt.fill_between(Benzene[\"Date\"],Benzene[\"em [gr/hr]\"],label=\"Benzene\",alpha=1)#)Toluene[\"em [gr/hr]\"], labels=[\"Benzene\",\"Toluene\"])\n",
    "\n",
    "#plt.stackplot(Toluene[\"Date\"],Toluene[\"em [gr/yr]\"],'-',label='Toluene')\n",
    "\n",
    "plt.legend()\n",
    "plt.savefig('DICIENBRE_TOLUENO_BENCENO.png')\n",
    "#plt.show()"
   ]
  },
  {
   "cell_type": "code",
   "execution_count": 55,
   "id": "266bffa8-bbf3-4d6a-8a93-1540f648400f",
   "metadata": {},
   "outputs": [
    {
     "name": "stderr",
     "output_type": "stream",
     "text": [
      "<ipython-input-55-f0eaff0fd88b>:1: FutureWarning: Dropping of nuisance columns in DataFrame reductions (with 'numeric_only=None') is deprecated; in a future version this will raise TypeError.  Select only valid columns before calling the reduction.\n",
      "  Toluene.sum()\n"
     ]
    },
    {
     "data": {
      "text/plain": [
       "em [gr/hr]                                          2197.308382\n",
       "cont          TolueneTolueneTolueneTolueneTolueneTolueneTolu...\n",
       "dtype: object"
      ]
     },
     "execution_count": 55,
     "metadata": {},
     "output_type": "execute_result"
    }
   ],
   "source": [
    "Toluene.sum()"
   ]
  },
  {
   "cell_type": "code",
   "execution_count": 37,
   "id": "579b0e66-8583-48d3-93bb-176a2eb2181d",
   "metadata": {},
   "outputs": [
    {
     "name": "stderr",
     "output_type": "stream",
     "text": [
      "<ipython-input-37-52032984ad0a>:1: FutureWarning: Dropping of nuisance columns in DataFrame reductions (with 'numeric_only=None') is deprecated; in a future version this will raise TypeError.  Select only valid columns before calling the reduction.\n",
      "  Benzene.sum()\n"
     ]
    },
    {
     "data": {
      "text/plain": [
       "em [gr/hr]                                          1270.307947\n",
       "cont          BenzeneBenzeneBenzeneBenzeneBenzeneBenzeneBenz...\n",
       "dtype: object"
      ]
     },
     "execution_count": 37,
     "metadata": {},
     "output_type": "execute_result"
    }
   ],
   "source": [
    "Benzene.sum()"
   ]
  },
  {
   "cell_type": "code",
   "execution_count": null,
   "id": "c08286bb-b360-429f-ba67-336522718dd0",
   "metadata": {},
   "outputs": [],
   "source": []
  }
 ],
 "metadata": {
  "kernelspec": {
   "display_name": "Python 3",
   "language": "python",
   "name": "python3"
  },
  "language_info": {
   "codemirror_mode": {
    "name": "ipython",
    "version": 3
   },
   "file_extension": ".py",
   "mimetype": "text/x-python",
   "name": "python",
   "nbconvert_exporter": "python",
   "pygments_lexer": "ipython3",
   "version": "3.8.8"
  }
 },
 "nbformat": 4,
 "nbformat_minor": 5
}

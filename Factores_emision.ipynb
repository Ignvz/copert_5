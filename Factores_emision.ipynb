{
 "cells": [
  {
   "cell_type": "markdown",
   "metadata": {
    "colab_type": "text",
    "id": "view-in-github"
   },
   "source": [
    "<a href=\"https://colab.research.google.com/github/Ignvz/copert_5/blob/main/Factores_emision.ipynb\" target=\"_parent\"><img src=\"https://colab.research.google.com/assets/colab-badge.svg\" alt=\"Open In Colab\"/></a>"
   ]
  },
  {
   "cell_type": "code",
   "execution_count": 1,
   "metadata": {
    "colab": {
     "base_uri": "https://localhost:8080/"
    },
    "id": "avyig845-kBD",
    "outputId": "ecb7589c-354a-413a-fc1c-e931f66d297f"
   },
   "outputs": [
    {
     "name": "stdout",
     "output_type": "stream",
     "text": [
      "Mounted at /content/drive\n"
     ]
    }
   ],
   "source": [
    "#If used from google drive\n",
    "from google.colab import drive\n",
    "drive.mount('/content/drive')"
   ]
  },
  {
   "cell_type": "code",
   "execution_count": 4,
   "metadata": {
    "colab": {
     "base_uri": "https://localhost:8080/"
    },
    "id": "ZychQryh-R7h",
    "outputId": "9310c38f-3a63-4170-a877-7e454ba345e6"
   },
   "outputs": [
    {
     "name": "stdout",
     "output_type": "stream",
     "text": [
      "/content/drive/.shortcut-targets-by-id/1rXzOeDHO59D46y_UeQ5BIKirkwBHax7H/Factores_de_emision\n",
      "'1.A.3.b.i-iv Road Transport Appendix 4 Emission Factors_2020Sept.xlsx'\n",
      "'Actividad Vehicular.csv'\n",
      " BC_emissions.xlsx\n",
      " BC_factors.csv\n",
      " C5_reducido_prueba.xlsx\n",
      " C5_reducido.xlsx\n",
      " CH4_emissions.xlsx\n",
      " CH4_factors.csv\n",
      " CH4_reducido.xlsx\n",
      " CO2_emissions.xlsx\n",
      " CO2_factors.csv\n",
      " CO2_factors.gsheet\n",
      " CO2_reducido.xlsx\n",
      " CO_emissions.xlsx\n",
      " CO_factors.csv\n",
      " Copert5.xlsx\n",
      " CO_reducido.xlsx\n",
      " Euro_7.xlsx\n",
      " NOx_emissions.xlsx\n",
      " NOx_factors.csv\n",
      " NOx_reducido.xlsx\n",
      " PM_emissions.xlsx\n",
      " PM_factors.csv\n",
      " PM_reducido.xlsx\n",
      " SOx_emissions.xlsx\n",
      " SOx_factors.csv\n",
      " Velocidades.csv\n",
      " VOC_emissions.xlsx\n",
      " VOC_factors.csv\n",
      " VOC_reducido.xlsx\n"
     ]
    }
   ],
   "source": [
    "%cd \"/content/drive/MyDrive/Factores de emision\"\n",
    "!ls"
   ]
  },
  {
   "cell_type": "code",
   "execution_count": 523,
   "metadata": {
    "id": "2JKySxO9tuX9"
   },
   "outputs": [],
   "source": [
    "import pandas as pd\n",
    "pd.options.mode.chained_assignment = None  # default='warn'\n",
    "import numpy as np"
   ]
  },
  {
   "cell_type": "code",
   "execution_count": 493,
   "metadata": {
    "id": "YGhx0K1LzfXv"
   },
   "outputs": [],
   "source": [
    "def copert5(alpha, beta, gamma, delta, epsilon, zeta, hta, vm, redFactor):\n",
    "  if epsilon*vm**2+zeta*vm+hta == 0:\n",
    "    return 0\n",
    "  else:\n",
    "    return (1-redFactor)*(alpha*vm**2 + beta*vm + gamma + delta/vm)/(epsilon * vm**2 + zeta*vm+ hta)"
   ]
  },
  {
   "cell_type": "code",
   "execution_count": 574,
   "metadata": {
    "id": "h_mgfbsLRpI9"
   },
   "outputs": [],
   "source": [
    "#cargando. excels\n",
    "#xls = pd.ExcelFile('Copert5.xlsx')\n",
    "xls = pd.ExcelFile('1.A.3.b.i-iv Road Transport Appendix 4 Emission Factors 2021.xlsx')\n",
    "df = pd.read_excel(xls,'HOT_EMISSIONS_PARAMETERS', index_col=None)"
   ]
  },
  {
   "cell_type": "code",
   "execution_count": 575,
   "metadata": {
    "id": "240RUAgjRyVB"
   },
   "outputs": [],
   "source": [
    "#Filtrando usando REGEX a las categorías vehiculares a utilizar\n",
    "df = df.loc[\n",
    "      ((df['Fuel'] == 'Petrol') |  (df['Fuel'] == 'Diesel')) &\n",
    "      df.Segment.str.contains('^Medium') | #VLP, TAX\n",
    "      df.Segment.str.contains(\"^N1-II$\")  | #VLC\n",
    "      df.Segment.str.contains('^Art*|^Rigid 28 *|^Rigid >32*') | #CAM PES RIGID>28 t and articulated\n",
    "      df.Segment.str.contains('^Rigid 14 *|^Rigid 20 *|^Rigid 26 *') |#CAM MED RIGID 14-28 t\n",
    "      df.Segment.str.contains('^Rigid <=7,5 *|^Rigid 7,5 -*|^Rigid 12 *') |#CAM LIV\n",
    "      df.Segment.str.contains('^Urban Buses Standard 15 *') | #Bus RIG\n",
    "      df.Segment.str.contains('^Urban Buses Articulated >18 t') | #BUS ART\n",
    "      df.Segment.str.contains('^Coaches Standard <=18 t') | #BUS INT PROV\n",
    "      df.Segment.str.contains(\"^Motorcycles 2-stroke >50 *\") #MOT\n",
    "]\n"
   ]
  },
  {
   "cell_type": "code",
   "execution_count": 576,
   "metadata": {
    "colab": {
     "base_uri": "https://localhost:8080/",
     "height": 748
    },
    "id": "UsbDGQyQ-e9j",
    "outputId": "bbccac3a-c5db-4511-8ca4-81b822ce3687"
   },
   "outputs": [],
   "source": [
    "#Cambiando a la clasificacion a utilizar\n",
    "df.loc[df['Segment'] == 'Medium', 'Segment'] = 'VLP'\n",
    "df.loc[df['Segment'] == 'N1-II', 'Segment'] = 'VLC'\n",
    "df.loc[df.Segment.str.contains('^Rigid <=7,5 *|^Rigid 7,5 -*|^Rigid 12 *'), 'Segment'] = 'CAM LIV'\n",
    "df.loc[df.Segment.str.contains('^Rigid 14 *|^Rigid 20 *|^Rigid 26 *'), 'Segment'] = 'CAM MED'\n",
    "df.loc[df.Segment.str.contains('^Art*|^Rigid 28 *|^Rigid >32*'), 'Segment'] = 'CAM PES'\n",
    "df.loc[df.Segment.str.contains('^Urban Buses Standard 15 *'), 'Segment'] = 'BUS RIG'\n",
    "df.loc[df.Segment.str.contains('^Urban Buses Articulated >18 t'), 'Segment'] = 'BUS ART'\n",
    "df.loc[df.Segment.str.contains('^Coaches Standard <=18 t'), 'Segment'] = 'BUS INT PROV'\n",
    "df.loc[df.Segment.str.contains(\"^Motorcycles 2-stroke >50 *\"), 'Segment'] = 'MOT'\n",
    "#df.to_excel('C5_reducido.xlsx',index = False)\n",
    "#df.loc[df.Segment.str.contains('^CAM MED*')] "
   ]
  },
  {
   "cell_type": "code",
   "execution_count": 577,
   "metadata": {
    "id": "qXj1AtXWF1k4"
   },
   "outputs": [
    {
     "data": {
      "text/plain": [
       "array([nan, 'Urban Peak', 'Highway', 'Hot'], dtype=object)"
      ]
     },
     "execution_count": 577,
     "metadata": {},
     "output_type": "execute_result"
    }
   ],
   "source": [
    "#df = pd.read_excel('C5_reducido_prueba.xlsx')\n",
    "df = df.loc[ ((df['Load'].isnull())) | #todas las pendientes y las que no tienen pendiente\n",
    "       ((df['Load'] == 0.5))] #carga 50% y las que su carga no está definida\n",
    "#df.to_excel('C5_reducido_prueba.xlsx',index = False)\n",
    "pd.unique(df[\"Load\"])\n",
    "df = df.loc[(df[\"Mode\"] == \"Highway\") | (df[\"Mode\"].isnull()) | (df[\"Mode\"] == \"Urban Peak\") | (df[\"Mode\"] == \"Hot\")]\n",
    "df[\"Mode\"].unique()"
   ]
  },
  {
   "cell_type": "code",
   "execution_count": 579,
   "metadata": {},
   "outputs": [],
   "source": [
    "#Seteando velocidad\n",
    "velMin = 25\n",
    "velMax = 80\n",
    "df[\"velMin\"] = velMin\n",
    "df[\"velMax\"] = velMax\n",
    "df[\"velMax\"] = np.where(df[\"Max Speed [km/h]\"] < velMax, #mayor que el valor max\n",
    "                       df[\"Max Speed [km/h]\"], velMax)\n",
    "df[\"velMin\"] = np.where(df[\"Min Speed [km/h]\"] > velMin, #menor que el valor min\n",
    "                       df[\"Min Speed [km/h]\"], velMin)"
   ]
  },
  {
   "cell_type": "code",
   "execution_count": 590,
   "metadata": {
    "id": "EamcYEf3MLxV"
   },
   "outputs": [],
   "source": [
    "#Cambiando clasificaciones\n",
    "df.loc[df['Euro Standard'] == 'PRE ECE', 'Euro Standard'] = 'No cat'\n",
    "df.loc[df['Euro Standard'] == 'Euro 1', 'Euro Standard'] = 'E1'\n",
    "df.loc[df['Euro Standard'] == 'Euro 2', 'Euro Standard'] = 'E2'\n",
    "df.loc[df['Euro Standard'] == 'Euro 3', 'Euro Standard'] = 'E3'\n",
    "df.loc[df['Euro Standard'] == 'Euro 4', 'Euro Standard'] = 'E4'\n",
    "df.loc[df['Euro Standard'] == 'Euro 5', 'Euro Standard'] = 'E5'\n",
    "df.loc[df['Euro Standard'] == 'Euro 6 a/b/c', 'Euro Standard'] = 'E6abc'\n",
    "df.loc[df['Euro Standard'] == 'Euro 6 d', 'Euro Standard'] = 'E6d'\n",
    "df.loc[df['Euro Standard'] == 'Conventional', 'Euro Standard'] = 'No cat'\n",
    "df.loc[df['Euro Standard'] == 'Euro I', 'Euro Standard'] = 'E1'\n",
    "df.loc[df['Euro Standard'] == 'Euro II', 'Euro Standard'] = 'E2'\n",
    "df.loc[df['Euro Standard'] == 'Euro III', 'Euro Standard'] = 'E3'\n",
    "df.loc[df['Euro Standard'] == 'Euro IV', 'Euro Standard'] = 'E4'\n",
    "df.loc[df['Euro Standard'] == 'Euro V', 'Euro Standard'] = 'E5'\n",
    "df.loc[df['Euro Standard'] == 'Euro VI A/B/C', 'Euro Standard'] = 'E6abc' #al parecer no hay diferencia en los parámetros estudiados\n",
    "df.loc[df['Euro Standard'] == 'Euro VI D/E', 'Euro Standard'] = 'E6d'\n",
    "df.loc[df['Fuel'] == 'Petrol', 'Fuel'] = 'Gasolina'\n",
    "#df.to_excel('C5_reducido_prueba.xlsx',index = False)"
   ]
  },
  {
   "cell_type": "code",
   "execution_count": 530,
   "metadata": {},
   "outputs": [],
   "source": [
    "df = df.loc[\n",
    "            #Todo lo en blanco\n",
    "            (df['Technology'].isnull()) |\n",
    "            #Passenger Cars\n",
    "            ((df['Category'] == 'Passenger Cars') & \n",
    "             (df['Technology'] == 'PFI') | (df['Technology'] == 'DPF')) |\n",
    "            #Light Commercial Vehicles\n",
    "            ((df['Category'] == 'Light Commercial Vehicles') & \n",
    "             (df['Technology'] == 'PFI') | (df['Technology'] == 'DPF')) |\n",
    "             #Buses\n",
    "            ((df['Category'] == 'Buses') & \n",
    "             (df['Technology'] == 'EGR') | (df['Technology'] == 'DPF+SCR')) |\n",
    "            #Heavy Duty Trucks\n",
    "            ((df['Category'] == 'Heavy Duty Trucks') & \n",
    "             (df['Technology'] == 'EGR') | (df['Technology'] == 'DPF+SCR'))\n",
    "            ]"
   ]
  },
  {
   "cell_type": "code",
   "execution_count": 531,
   "metadata": {},
   "outputs": [],
   "source": [
    "alpha = df[[\"Alpha\"]].astype(\"float\")\n",
    "beta = df[[\"Beta\"]].astype(\"float\")\n",
    "gamma = df[[\"Gamma\"]].astype(\"float\")\n",
    "delta = df[[\"Delta\"]].astype(\"float\")\n",
    "epsilon = df[[\"Epsilon\"]].astype(\"float\")\n",
    "zeta = df[[\"Zita\"]].astype(\"float\")\n",
    "hta = df[[\"Hta\"]].astype(\"float\")\n",
    "vmUrb = df[[\"velMin\"]].astype(\"float\")\n",
    "vmInt = df[[\"velMax\"]].astype(\"float\")\n",
    "redFactor = df[[\"Reduction Factor [%]\"]].astype(\"float\")\n",
    "#copert5(alpha, beta, gamma, delta, epsilon, zeta, hta, vm, redFactor)\n",
    "discriminante = (epsilon.values*vmUrb.values**2+zeta.values*vmUrb.values+\n",
    "                 hta.values)\n",
    "df[\"EF[g/km]_ECF[MJ/km]_Urb\"] = np.where(discriminante < 0, 0, (1 - redFactor.values)*((alpha.values * vmUrb.values**2 + beta.values * vmUrb.values \n",
    "+ gamma.values + (delta.values/vmUrb.values)) / (discriminante)))\n",
    "discriminante = (epsilon.values*vmInt.values**2+zeta.values*vmInt.values+\n",
    "                 hta.values)\n",
    "df[\"EF[g/km]_ECF[MJ/km]_Int\"] = np.where(discriminante < 0, 0, (1 - redFactor.values)*((alpha.values * vmInt.values**2 + beta.values * vmInt.values \n",
    "+ gamma.values + (delta.values/vmInt.values)) / (discriminante)))"
   ]
  },
  {
   "cell_type": "code",
   "execution_count": 532,
   "metadata": {},
   "outputs": [],
   "source": [
    "cols = list(df.columns)\n",
    "#df = df[cols[0:9]+cols[11:19]]\n",
    "dfCO = df.loc[df['Pollutant'] == 'CO']\n",
    "dfNOx = df.loc[df['Pollutant'] == 'NOx']\n",
    "dfVOC = df.loc[df['Pollutant'] == 'VOC']\n",
    "dfPM = df.loc[df['Pollutant'] == 'PM Exhaust']\n",
    "dfCH4 = df.loc[df['Pollutant'] == 'CH4']\n",
    "dfCO2 = df.loc[df['Pollutant'] == 'EC']"
   ]
  },
  {
   "cell_type": "code",
   "execution_count": 583,
   "metadata": {},
   "outputs": [
    {
     "name": "stderr",
     "output_type": "stream",
     "text": [
      "<ipython-input-583-700cd9d13c91>:17: RuntimeWarning: divide by zero encountered in reciprocal\n",
      "  dfCO2[[\"km/lt_urb\"]] = np.where(dfCO2[[\"Fuel\"]]==\"Gasolina\", (FC_urb/(gasDensidad*10**3))**-1,(FC_urb/(dieselDensidad*10**3))**-1)\n",
      "<ipython-input-583-700cd9d13c91>:26: RuntimeWarning: divide by zero encountered in reciprocal\n",
      "  dfCO2[[\"km/lt_int\"]] = np.where(dfCO2[[\"Fuel\"]]==\"Gasolina\", (FC_int/(gasDensidad*10**3))**-1,(FC_int/(dieselDensidad*10**3))**-1)\n"
     ]
    }
   ],
   "source": [
    "#Calculo CO2 y SOx\n",
    "gasDensidad = 0.730 #Ton/m3\n",
    "gasPcalor = 11200 #Kcal/kg \n",
    "dieselPcalor = 10900 #Kcal/kg \n",
    "dieselDensidad = 0.840 #ton/m3\n",
    "tJouleAtCal = 2.39*10**(-1) #de joule a cal \n",
    "kCalLt = (gasDensidad*1000*gasPcalor*0.001)\n",
    "kCalLt = (dieselDensidad*1000*dieselPcalor*0.001)\n",
    "######## Fin Datos ##########\n",
    "####### Urbano #######\n",
    "\n",
    "FCgas_urb = (1000*dfCO2[[\"EF[g/km]_ECF[MJ/km]_Urb\"]]*tJouleAtCal)/(gasPcalor/1000) #gr/km\n",
    "FCdies_urb = (1000*dfCO2[[\"EF[g/km]_ECF[MJ/km]_Urb\"]]*tJouleAtCal)/(dieselPcalor/1000) #gr/km\n",
    "FC_urb = np.where(dfCO2[[\"Fuel\"]]==\"Gasolina\", FCgas_urb, FCdies_urb) #diferenciando diesel y gasolina gr/km\n",
    "co2Calc_urb = np.where(dfCO2[[\"Fuel\"]] == \"Gasolina\",44.0011*(FC_urb/(12.011+1.008*1.8)), 44.0011*(FC_urb/(12.011+1.008*2)))\n",
    "soxCalc_urb = 2*5*(10**-5)*FC_urb\n",
    "dfCO2[[\"km/lt_urb\"]] = np.where(dfCO2[[\"Fuel\"]]==\"Gasolina\", (FC_urb/(gasDensidad*10**3))**-1,(FC_urb/(dieselDensidad*10**3))**-1)\n",
    "dfCO2[[\"CO2 g/km_urb\"]] = co2Calc_urb\n",
    "dfCO2[[\"SOx g/km_urb\"]] = soxCalc_urb\n",
    "#### Interurbano ####\n",
    "FCgas_int = (1000*dfCO2[[\"EF[g/km]_ECF[MJ/km]_Int\"]]*tJouleAtCal)/(gasPcalor/1000) #gr/km\n",
    "FCdies_int = (1000*dfCO2[[\"EF[g/km]_ECF[MJ/km]_Int\"]]*tJouleAtCal)/(dieselPcalor/1000) #gr/km\n",
    "FC_int = np.where(dfCO2[[\"Fuel\"]]==\"Gasolina\", FCgas_int, FCdies_int) #diferenciando diesel y gasolina gr/km\n",
    "co2Calc_int = np.where(dfCO2[[\"Fuel\"]] == \"Gasolina\",44.0011*(FC_int/(12.011+1.008*1.8)), 44.0011*(FC_int/(12.011+1.008*2)))\n",
    "soxCalc_int = 2*5*(10**-5)*FC_int\n",
    "dfCO2[[\"km/lt_int\"]] = np.where(dfCO2[[\"Fuel\"]]==\"Gasolina\", (FC_int/(gasDensidad*10**3))**-1,(FC_int/(dieselDensidad*10**3))**-1)\n",
    "dfCO2[[\"CO2 g/km_int\"]] = co2Calc_int\n",
    "dfCO2[[\"SOx g/km_int\"]] = soxCalc_int\n",
    "\n"
   ]
  },
  {
   "cell_type": "code",
   "execution_count": 534,
   "metadata": {},
   "outputs": [],
   "source": [
    "columns_text = [\"Region\", \"Ambito\", \"Modo\", \"Motorizacion\", \"Norma\", \"Gas\", \"Unidad\"]"
   ]
  },
  {
   "cell_type": "code",
   "execution_count": 521,
   "metadata": {
    "id": "kgC0hXOHLFrG"
   },
   "outputs": [],
   "source": [
    "#Una vez reducida a lo que se utilizara, se separan dataframes diferentes por contaminante.\n",
    "#df = pd.read_excel('C5_reducido_prueba.xlsx')\n",
    "dfCO.to_excel('CO_reducido.xlsx',index = False)\n",
    "dfNOx.to_excel('NOx_reducido.xlsx',index = False)\n",
    "dfVOC.to_excel('VOC_reducido.xlsx',index = False)\n",
    "dfPM.to_excel('PM_reducido.xlsx',index = False)\n",
    "dfCH4.to_excel('CH4_reducido.xlsx',index = False)\n",
    "dfCO2.to_excel('CO2_reducido.xlsx',index = False)"
   ]
  },
  {
   "cell_type": "code",
   "execution_count": 588,
   "metadata": {},
   "outputs": [
    {
     "data": {
      "text/html": [
       "<div>\n",
       "<style scoped>\n",
       "    .dataframe tbody tr th:only-of-type {\n",
       "        vertical-align: middle;\n",
       "    }\n",
       "\n",
       "    .dataframe tbody tr th {\n",
       "        vertical-align: top;\n",
       "    }\n",
       "\n",
       "    .dataframe thead th {\n",
       "        text-align: right;\n",
       "    }\n",
       "</style>\n",
       "<table border=\"1\" class=\"dataframe\">\n",
       "  <thead>\n",
       "    <tr style=\"text-align: right;\">\n",
       "      <th></th>\n",
       "      <th></th>\n",
       "      <th></th>\n",
       "      <th></th>\n",
       "      <th>velMin</th>\n",
       "      <th>velMax</th>\n",
       "      <th>EF[g/km]_ECF[MJ/km]_Urb</th>\n",
       "      <th>EF[g/km]_ECF[MJ/km]_Int</th>\n",
       "    </tr>\n",
       "    <tr>\n",
       "      <th>Segment</th>\n",
       "      <th>Pollutant</th>\n",
       "      <th>Fuel</th>\n",
       "      <th>Euro Standard</th>\n",
       "      <th></th>\n",
       "      <th></th>\n",
       "      <th></th>\n",
       "      <th></th>\n",
       "    </tr>\n",
       "  </thead>\n",
       "  <tbody>\n",
       "    <tr>\n",
       "      <th rowspan=\"5\" valign=\"top\">BUS ART</th>\n",
       "      <th rowspan=\"5\" valign=\"top\">PM Exhaust</th>\n",
       "      <th rowspan=\"5\" valign=\"top\">Diesel</th>\n",
       "      <th>E1</th>\n",
       "      <td>25.0</td>\n",
       "      <td>76.142857</td>\n",
       "      <td>0.591982</td>\n",
       "      <td>0.392053</td>\n",
       "    </tr>\n",
       "    <tr>\n",
       "      <th>E2</th>\n",
       "      <td>25.0</td>\n",
       "      <td>76.857143</td>\n",
       "      <td>0.313199</td>\n",
       "      <td>0.159638</td>\n",
       "    </tr>\n",
       "    <tr>\n",
       "      <th>E3</th>\n",
       "      <td>25.0</td>\n",
       "      <td>77.857143</td>\n",
       "      <td>0.270420</td>\n",
       "      <td>0.152742</td>\n",
       "    </tr>\n",
       "    <tr>\n",
       "      <th>E4</th>\n",
       "      <td>25.0</td>\n",
       "      <td>78.428571</td>\n",
       "      <td>0.063838</td>\n",
       "      <td>0.024061</td>\n",
       "    </tr>\n",
       "    <tr>\n",
       "      <th>E5</th>\n",
       "      <td>25.0</td>\n",
       "      <td>77.142857</td>\n",
       "      <td>0.067364</td>\n",
       "      <td>0.026960</td>\n",
       "    </tr>\n",
       "    <tr>\n",
       "      <th>...</th>\n",
       "      <th>...</th>\n",
       "      <th>...</th>\n",
       "      <th>...</th>\n",
       "      <td>...</td>\n",
       "      <td>...</td>\n",
       "      <td>...</td>\n",
       "      <td>...</td>\n",
       "    </tr>\n",
       "    <tr>\n",
       "      <th rowspan=\"5\" valign=\"top\">VLP</th>\n",
       "      <th rowspan=\"5\" valign=\"top\">PM Exhaust</th>\n",
       "      <th rowspan=\"5\" valign=\"top\">Gasolina</th>\n",
       "      <th>ECE 15/04</th>\n",
       "      <td>25.0</td>\n",
       "      <td>100.000000</td>\n",
       "      <td>0.002560</td>\n",
       "      <td>0.002560</td>\n",
       "    </tr>\n",
       "    <tr>\n",
       "      <th>Euro 6 d-temp</th>\n",
       "      <td>25.0</td>\n",
       "      <td>100.000000</td>\n",
       "      <td>0.000963</td>\n",
       "      <td>0.000757</td>\n",
       "    </tr>\n",
       "    <tr>\n",
       "      <th>Improved Conventional</th>\n",
       "      <td>25.0</td>\n",
       "      <td>100.000000</td>\n",
       "      <td>0.002560</td>\n",
       "      <td>0.002560</td>\n",
       "    </tr>\n",
       "    <tr>\n",
       "      <th>No cat</th>\n",
       "      <td>25.0</td>\n",
       "      <td>100.000000</td>\n",
       "      <td>0.002560</td>\n",
       "      <td>0.002560</td>\n",
       "    </tr>\n",
       "    <tr>\n",
       "      <th>Open Loop</th>\n",
       "      <td>25.0</td>\n",
       "      <td>100.000000</td>\n",
       "      <td>0.002560</td>\n",
       "      <td>0.002560</td>\n",
       "    </tr>\n",
       "  </tbody>\n",
       "</table>\n",
       "<p>96 rows × 4 columns</p>\n",
       "</div>"
      ],
      "text/plain": [
       "                                                   velMin      velMax  \\\n",
       "Segment Pollutant  Fuel     Euro Standard                               \n",
       "BUS ART PM Exhaust Diesel   E1                       25.0   76.142857   \n",
       "                            E2                       25.0   76.857143   \n",
       "                            E3                       25.0   77.857143   \n",
       "                            E4                       25.0   78.428571   \n",
       "                            E5                       25.0   77.142857   \n",
       "...                                                   ...         ...   \n",
       "VLP     PM Exhaust Gasolina ECE 15/04                25.0  100.000000   \n",
       "                            Euro 6 d-temp            25.0  100.000000   \n",
       "                            Improved Conventional    25.0  100.000000   \n",
       "                            No cat                   25.0  100.000000   \n",
       "                            Open Loop                25.0  100.000000   \n",
       "\n",
       "                                                   EF[g/km]_ECF[MJ/km]_Urb  \\\n",
       "Segment Pollutant  Fuel     Euro Standard                                    \n",
       "BUS ART PM Exhaust Diesel   E1                                    0.591982   \n",
       "                            E2                                    0.313199   \n",
       "                            E3                                    0.270420   \n",
       "                            E4                                    0.063838   \n",
       "                            E5                                    0.067364   \n",
       "...                                                                    ...   \n",
       "VLP     PM Exhaust Gasolina ECE 15/04                             0.002560   \n",
       "                            Euro 6 d-temp                         0.000963   \n",
       "                            Improved Conventional                 0.002560   \n",
       "                            No cat                                0.002560   \n",
       "                            Open Loop                             0.002560   \n",
       "\n",
       "                                                   EF[g/km]_ECF[MJ/km]_Int  \n",
       "Segment Pollutant  Fuel     Euro Standard                                   \n",
       "BUS ART PM Exhaust Diesel   E1                                    0.392053  \n",
       "                            E2                                    0.159638  \n",
       "                            E3                                    0.152742  \n",
       "                            E4                                    0.024061  \n",
       "                            E5                                    0.026960  \n",
       "...                                                                    ...  \n",
       "VLP     PM Exhaust Gasolina ECE 15/04                             0.002560  \n",
       "                            Euro 6 d-temp                         0.000757  \n",
       "                            Improved Conventional                 0.002560  \n",
       "                            No cat                                0.002560  \n",
       "                            Open Loop                             0.002560  \n",
       "\n",
       "[96 rows x 4 columns]"
      ]
     },
     "execution_count": 588,
     "metadata": {},
     "output_type": "execute_result"
    }
   ],
   "source": [
    "gk = df.groupby([\"Segment\", \"Pollutant\", \"Fuel\", 'Euro Standard']).mean()\n",
    "gk[[\"EF[g/km]_ECF[MJ/km]_Urb\",\"EF[g/km]_ECF[MJ/km]_Int\", \"velMax\", \"velMin\"]].to_excel(\"Resumen_categoria_combustible.xlsx\",index = True)\n",
    "#df.to_excel('C5_reducido_prueba.xlsx',index = False)\n",
    "#df2 = pd.read_excel('PM_reducido.xlsx')\n",
    "gk2 = dfCO2.groupby([\"Segment\", \"Pollutant\", \"Fuel\", 'Euro Standard']).mean()\n",
    "#gk2.to_excel(\"ResumenCO2.xlsx\", index=True)\n",
    "gk[[\"velMin\", \"velMax\", \"EF[g/km]_ECF[MJ/km]_Urb\", \"EF[g/km]_ECF[MJ/km]_Int\"]]\n"
   ]
  },
  {
   "cell_type": "code",
   "execution_count": 585,
   "metadata": {
    "id": "sU1tgmRxTENU"
   },
   "outputs": [],
   "source": [
    "#Toques finales a CH4, PM exhaust\n",
    "Archivos = ['CH4_reducido.xlsx','PM_reducido.xlsx']\n",
    "for file in Archivos:\n",
    "  df = pd.read_excel(file)\n",
    "  df = df.loc[\n",
    "              df['Mode'].isnull() |\n",
    "              (df['Mode'] == 'Highway') |\n",
    "              (df['Mode'] == 'Urban Off Peak')\n",
    "              ]\n",
    "  df.loc[df['Mode'] == 'Highway', 'Mode'] = 'Interurbano'\n",
    "  df.loc[df['Mode'] == 'Urban Off Peak', 'Mode'] = 'Urbano'\n",
    "  df.to_excel(file,index = False)"
   ]
  },
  {
   "cell_type": "code",
   "execution_count": null,
   "metadata": {},
   "outputs": [],
   "source": []
  }
 ],
 "metadata": {
  "colab": {
   "collapsed_sections": [],
   "include_colab_link": true,
   "name": "Factores_emision.ipynb",
   "provenance": []
  },
  "kernelspec": {
   "display_name": "Python 3",
   "language": "python",
   "name": "python3"
  },
  "language_info": {
   "codemirror_mode": {
    "name": "ipython",
    "version": 3
   },
   "file_extension": ".py",
   "mimetype": "text/x-python",
   "name": "python",
   "nbconvert_exporter": "python",
   "pygments_lexer": "ipython3",
   "version": "3.8.8"
  }
 },
 "nbformat": 4,
 "nbformat_minor": 4
}

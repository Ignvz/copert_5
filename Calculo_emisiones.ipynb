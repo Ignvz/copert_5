{
 "cells": [
  {
   "cell_type": "markdown",
   "id": "3b33285b-3f73-4e1a-84bd-d0b855cf1ab2",
   "metadata": {},
   "source": [
    "# Modulo 2\n",
    "En este notebook se realiza el calculo de las emisiones.\n",
    "Se utilizan los VKT desde el programa de Nicolásy se multiplican por los factores de emisión obtenidos por COPERT5.5"
   ]
  },
  {
   "cell_type": "code",
   "execution_count": 2,
   "id": "5e441eac-47b2-4673-ad95-c3d62ee0ca08",
   "metadata": {},
   "outputs": [
    {
     "data": {
      "application/javascript": [
       "if (typeof require !== 'undefined')\n",
       "    require.config({\n",
       "        paths: {\n",
       "            jquery: 'https://code.jquery.com/jquery-3.5.1.min',\n",
       "            datatables: 'https://cdn.datatables.net/1.11.3/js/jquery.dataTables.min',\n",
       "        }\n",
       "    });\n"
      ],
      "text/plain": [
       "<IPython.core.display.Javascript object>"
      ]
     },
     "metadata": {},
     "output_type": "display_data"
    }
   ],
   "source": [
    "import pandas as pd\n",
    "import qgrid\n",
    "from itables import init_notebook_mode\n",
    "init_notebook_mode(all_interactive=False)\n",
    "pd.options.mode.chained_assignment = None  # default='warn'\n",
    "import numpy as np\n",
    "import itables.options as opt\n",
    "\n",
    "opt.lengthMenu = [2, 5, 10, 20, 50, 100, 200, 500]\n",
    "opt.maxBytes = 2 ** 200"
   ]
  },
  {
   "cell_type": "code",
   "execution_count": 14,
   "id": "ce1bb7a2-895c-47c3-8ec4-525ef84a37ad",
   "metadata": {},
   "outputs": [],
   "source": [
    "df = pd.read_excel(\"Modulo 2/VKT.xlsx\", index_col=None)\n",
    "df_vkt2 = pd.read_excel(\"Modulo 2/VKT_2.xlsx\", index_col=None)\n",
    "PM_NE = pd.read_excel(\"Modulo 2/EF_BreakTyreWear.xlsx\", index_col=None)\n",
    "PM_NE_R = pd.read_excel(\"Modulo 2/EF_RoadWear.xlsx\", index_col=None)\n",
    "EF = pd.read_excel(\"EF.xlsx\", index_col=None)\n",
    "EF = EF.replace([\"R01\",\"R02\",\"R03\",\"R04\",\"R05\",\"R06\",\"R07\",\"R08\",\"R09\"], [\"R1\",\"R2\",\"R3\",\"R4\",\"R5\",\"R6\",\"R7\",\"R8\",\"R9\"])"
   ]
  },
  {
   "cell_type": "code",
   "execution_count": 15,
   "id": "62cbb859-50d4-4d06-ac1e-b3b5a3d68a93",
   "metadata": {},
   "outputs": [
    {
     "data": {
      "text/plain": [
       "array(['R1', 'R2', 'R3', 'R4', 'R5', 'R6', 'R7', 'R8', 'R9', 'R10', 'R11',\n",
       "       'R12', 'R13', 'R14', 'R15'], dtype=object)"
      ]
     },
     "execution_count": 15,
     "metadata": {},
     "output_type": "execute_result"
    }
   ],
   "source": [
    "df_2 = df_vkt2.iloc[:,2:]\n",
    "df_2.drop(\"2013\", inplace=True, axis=1)\n",
    "df_2 = df_2.replace([\"R01\",\"R02\",\"R03\",\"R04\",\"R05\",\"R06\",\"R07\",\"R08\",\"R09\"], [\"R1\",\"R2\",\"R3\",\"R4\",\"R5\",\"R6\",\"R7\",\"R8\",\"R9\"])\n",
    "df_2[\"Región\"].unique()"
   ]
  },
  {
   "cell_type": "code",
   "execution_count": 16,
   "id": "027ab146-f282-400a-94c3-2cfd02a405c4",
   "metadata": {},
   "outputs": [],
   "source": [
    "#verificar los años de los VKT y los años de las velocidades, deben calzar\n",
    "def merger(df1,df2):\n",
    "    dfm = df1.merge(df2, left_on=[\"Región\", \"Ámbito\", \"Categoría\", \"Motorizacion\", \"Norma\"], right_on=[\"Region\", \"Ambito\", \"Modo\", \"Motorizacion\", \"Norma\"], how=\"left\")\n",
    "    dfm = dfm.fillna(0)\n",
    "    df_f = pd.DataFrame(dfm.loc[:,\"2014_x\":\"2050\"].values*dfm.loc[:,\"2014_y\":2050].values, columns=dfm.iloc[:,48:85].columns, index=dfm.index)\n",
    "    df_f = pd.concat([dfm.iloc[:,:6],df_f],axis=1)\n",
    "    df_f.rename(columns = {'Unidad_x':'Unidad'}, inplace=True)\n",
    "    df_f.rename(columns = {'2014_y':2014}, inplace=True)\n",
    "    df_f[\"Unidad\"]=\"[gr/año]\"\n",
    "    return df_f"
   ]
  },
  {
   "cell_type": "code",
   "execution_count": 17,
   "id": "6d73d99d-4f92-4e93-b6c6-30ad070eccd5",
   "metadata": {},
   "outputs": [],
   "source": [
    "EF_BC = EF.iloc[:,0:-10][EF[\"Pollutant\"]==\"BC\"]\n",
    "EF_CH4 = EF.iloc[:,0:-10][EF[\"Pollutant\"]==\"CH4\"]\n",
    "EF_CO = EF.iloc[:,0:-10][EF[\"Pollutant\"]==\"CO\"]\n",
    "EF_CO2 = EF.iloc[:,0:-10][EF[\"Pollutant\"]==\"CO2\"]\n",
    "EF_N2O = EF.iloc[:,0:-10][EF[\"Pollutant\"]==\"N2O\"]\n",
    "EF_NH3 = EF.iloc[:,0:-10][EF[\"Pollutant\"]==\"NH3\"]\n",
    "EF_NO = EF.iloc[:,0:-10][EF[\"Pollutant\"]==\"NO\"]\n",
    "EF_NO2 = EF.iloc[:,0:-10][EF[\"Pollutant\"]==\"NO2\"]\n",
    "EF_NOx = EF.iloc[:,0:-10][EF[\"Pollutant\"]==\"NOx\"]\n",
    "EF_PM = EF.iloc[:,0:-10][EF[\"Pollutant\"]==\"PM\"]\n",
    "EF_SOx = EF.iloc[:,0:-10][EF[\"Pollutant\"]==\"SOx\"]\n",
    "EF_VOC = EF.iloc[:,0:-10][EF[\"Pollutant\"]==\"VOC\"]"
   ]
  },
  {
   "cell_type": "code",
   "execution_count": 18,
   "id": "10e01fc6-0c1b-4a55-ae9f-64e70f23bfd8",
   "metadata": {},
   "outputs": [],
   "source": [
    "dfm = df_2.merge(EF_CO, left_on=[\"Región\", \"Ámbito\", \"Categoría\", \"Motorizacion\", \"Norma\"], right_on=[\"Region\", \"Ambito\", \"Modo\", \"Motorizacion\", \"Norma\"], how=\"left\")\n",
    "dfm=dfm.fillna(0)\n",
    "df_CO = pd.DataFrame(dfm.iloc[:,6:43].values*dfm.loc[:,\"2014_y\":2050].values, columns=dfm.iloc[:,48:85].columns, index=dfm.index)\n",
    "df_CO = pd.concat([dfm.iloc[:,:6],df_CO],axis=1)\n",
    "df_CO.rename(columns = {'Unidad_x':'Unidad'}, inplace=True)\n",
    "df_CO.rename(columns = {'2014_y':2014}, inplace=True)\n",
    "df_CO[\"Unidad\"]=\"[gr/año]\"\n",
    "df_CO\n",
    "EM_BC = merger(df_2,EF_BC)\n",
    "EM_CH4 = merger(df_2,EF_CH4)\n",
    "EM_CO = merger(df_2,EF_CO)\n",
    "EM_CO2 = merger(df_2,EF_CO2)\n",
    "EM_N2O = merger(df_2,EF_N2O)\n",
    "EM_NH3 = merger(df_2,EF_NH3)\n",
    "EM_NO = merger(df_2,EF_NO)\n",
    "EM_NO2 = merger(df_2,EF_NO2)\n",
    "EM_NOx = merger(df_2,EF_NOx)\n",
    "EM_PM = merger(df_2,EF_PM)\n",
    "EM_SOx = merger(df_2,EF_SOx)\n",
    "EM_VOC = merger(df_2,EF_VOC)\n",
    "#EM_NO.iloc[:,6:].sum() + EM_NO2.iloc[:,6:].sum() - EM_NOx.iloc[:,6:].sum() #<-consistente\n"
   ]
  },
  {
   "cell_type": "code",
   "execution_count": 20,
   "id": "b4e069a1-d7ef-4912-b563-25d6789049b8",
   "metadata": {},
   "outputs": [],
   "source": [
    "writer = pd.ExcelWriter('Emisiones 2020.xlsx')\n",
    "EM_BC.to_excel(writer,'BC')\n",
    "EM_CH4.to_excel(writer,'CH4')\n",
    "EM_CO.to_excel(writer,'CO')\n",
    "EM_CO2.to_excel(writer,'CO2')\n",
    "EM_N2O.to_excel(writer,'N2O')\n",
    "EM_NH3.to_excel(writer,'NH3')\n",
    "EM_NO.to_excel(writer,'NO')\n",
    "EM_NO2.to_excel(writer,'NO2')\n",
    "EM_NOx.to_excel(writer,'NOx')\n",
    "EM_PM.to_excel(writer,'PM2.5')\n",
    "EM_SOx.to_excel(writer,'SOx')\n",
    "EM_VOC.to_excel(writer,'VOC')\n",
    "writer.save()"
   ]
  },
  {
   "cell_type": "code",
   "execution_count": 87,
   "id": "687441ce-a6c8-4511-ad4e-2c6d6b491c82",
   "metadata": {},
   "outputs": [],
   "source": [
    "# Calculo Emisiones Non_Exhaust (Brake, Wheel,Surface)\n",
    "df_2\n",
    "PM_NE\n",
    "PM_NE_R\n",
    "df_m = df_2.merge(PM_NE, left_on=[\"Categoría\", \"Motorizacion\", \"Norma\"], right_on=[\"Modo\", \"Motorizacion\", \"Norma\"], how=\"left\")\n",
    "df_m=df_m.fillna(0)\n",
    "df_PMNE = pd.DataFrame(df_m.iloc[:,6:43].values*df_m.loc[:,\"2014_y\":2050].values,columns=df_m.iloc[:,6:43].columns ,index=df_m.index)\n",
    "df_PMNE = pd.concat([df_m.iloc[:,:6],df_PMNE],axis=1)\n",
    "df_PMNE.rename(columns = {'2014_x':2014}, inplace=True)\n",
    "df_PMNE[\"Unidad\"]=\"[gr/año]\"\n",
    "df_PMNE.to_excel(\"PM_BreakTyreWear.xlsx\",index=False)"
   ]
  },
  {
   "cell_type": "code",
   "execution_count": 88,
   "id": "b4dbcd27-69fa-48cf-9110-4cb1516d7ed3",
   "metadata": {},
   "outputs": [],
   "source": [
    "df_m = df_2.merge(PM_NE_R, left_on=[\"Categoría\", \"Motorizacion\", \"Norma\"], right_on=[\"Modo\", \"Motorizacion\", \"Norma\"], how=\"left\")\n",
    "df_m=df_m.fillna(0)\n",
    "df_PMNE = pd.DataFrame(df_m.iloc[:,6:43].values*df_m.loc[:,\"2014_y\":2050].values,columns=df_m.iloc[:,6:43].columns ,index=df_m.index)\n",
    "df_PMNE = pd.concat([df_m.iloc[:,:6],df_PMNE],axis=1)\n",
    "df_PMNE.rename(columns = {'2014_x':2014}, inplace=True)\n",
    "df_PMNE[\"Unidad\"]=\"[gr/año]\"\n",
    "df_PMNE.to_excel(\"PM_SurfaceWear.xlsx\",index=False)"
   ]
  },
  {
   "cell_type": "code",
   "execution_count": 134,
   "id": "a67b7710-4773-4a2c-a731-eded0c989e1c",
   "metadata": {},
   "outputs": [
    {
     "data": {
      "text/plain": [
       "<matplotlib.legend.Legend at 0x7fab68812220>"
      ]
     },
     "execution_count": 134,
     "metadata": {},
     "output_type": "execute_result"
    },
    {
     "data": {
      "image/png": "[encoded data removed]",
      "text/plain": [
       "<Figure size 432x288 with 1 Axes>"
      ]
     },
     "metadata": {
      "needs_background": "light"
     },
     "output_type": "display_data"
    }
   ],
   "source": [
    "import plotly.express as px\n",
    "import matplotlib.pyplot as plt\n",
    "import matplotlib.ticker as ticker\n",
    "import matplotlib.dates as mdates\n",
    "import seaborn as sns\n",
    "colrs = sns.color_palette(\"tab20\")\n",
    "column_to_melt = EM_CO2.columns[6:15]\n",
    "df = pd.melt(EM_CO2, id_vars=[\"Región\"], value_vars=column_to_melt)\n",
    "df = df.groupby([\"Región\",\"variable\"],as_index=False).sum()\n",
    "df = df.pivot(index='variable', columns='Región', values='value')\n",
    "#ax.bar(df.index.values,)\n",
    "df.plot(kind=\"bar\",stacked=True, color=colrs)\n",
    "plt.xticks(rotation=-45)\n",
    "plt.ylabel('CO\\u2082[gr/año]') #subíndice \\u208x donde x es número\n",
    "plt.xlabel(None)\n",
    "plt.legend(bbox_to_anchor=(1.05, 1),loc='upper left', borderaxespad=0.)"
   ]
  },
  {
   "cell_type": "code",
   "execution_count": 132,
   "id": "f1da4f1c-2398-43be-9081-8c93094663a1",
   "metadata": {},
   "outputs": [
    {
     "data": {
      "text/plain": [
       "<matplotlib.legend.Legend at 0x7fab67419eb0>"
      ]
     },
     "execution_count": 132,
     "metadata": {},
     "output_type": "execute_result"
    },
    {
     "data": {
      "image/png": "[encoded data removed]",
      "text/plain": [
       "<Figure size 432x288 with 1 Axes>"
      ]
     },
     "metadata": {
      "needs_background": "light"
     },
     "output_type": "display_data"
    }
   ],
   "source": [
    "df = pd.melt(EM_CO2, id_vars=[\"Categoría\"], value_vars=column_to_melt)\n",
    "df = df.groupby([\"Categoría\",\"variable\"],as_index=False).sum()\n",
    "df = df.pivot(index='variable', columns='Categoría', values='value')\n",
    "#ax.bar(df.index.values,)\n",
    "df.plot(kind=\"bar\",stacked=True, color=colrs)\n",
    "plt.xticks(rotation=-45)\n",
    "plt.ylabel('CO\\u2082[gr/año]') #subíndice \\u208x donde x es número\n",
    "plt.xlabel(None)\n",
    "plt.legend(bbox_to_anchor=(1.05, 1),loc='upper left', borderaxespad=0.)"
   ]
  },
  {
   "cell_type": "code",
   "execution_count": null,
   "id": "3f75289a-77f4-4950-b421-7ee28ce3286c",
   "metadata": {},
   "outputs": [],
   "source": []
  }
 ],
 "metadata": {
  "kernelspec": {
   "display_name": "Python 3",
   "language": "python",
   "name": "python3"
  },
  "language_info": {
   "codemirror_mode": {
    "name": "ipython",
    "version": 3
   },
   "file_extension": ".py",
   "mimetype": "text/x-python",
   "name": "python",
   "nbconvert_exporter": "python",
   "pygments_lexer": "ipython3",
   "version": "3.8.8"
  }
 },
 "nbformat": 4,
 "nbformat_minor": 5
}

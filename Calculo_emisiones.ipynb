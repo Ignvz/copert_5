{
 "cells": [
  {
   "cell_type": "markdown",
   "id": "3b33285b-3f73-4e1a-84bd-d0b855cf1ab2",
   "metadata": {},
   "source": [
    "# Modulo 2\n",
    "En este notebook se realiza el calculo de las emisiones.\n",
    "Se utilizan los VKT desde el programa de Nicolásy se multiplican por los factores de emisión obtenidos por COPERT5.5"
   ]
  },
  {
   "cell_type": "code",
   "execution_count": 2,
   "id": "5e441eac-47b2-4673-ad95-c3d62ee0ca08",
   "metadata": {},
   "outputs": [],
   "source": [
    "import pandas as pd\n",
    "pd.options.mode.chained_assignment = None  # default='warn'\n",
    "import numpy as np"
   ]
  },
  {
   "cell_type": "code",
   "execution_count": 18,
   "id": "ce1bb7a2-895c-47c3-8ec4-525ef84a37ad",
   "metadata": {},
   "outputs": [],
   "source": [
    "df = pd.read_excel(\"Modulo 2/VKT.xlsx\", index_col=None)\n",
    "EF = pd.read_excel(\"EF.xlsx\", index_col=None)"
   ]
  },
  {
   "cell_type": "code",
   "execution_count": 67,
   "id": "62cbb859-50d4-4d06-ac1e-b3b5a3d68a93",
   "metadata": {},
   "outputs": [],
   "source": [
    "df_2 = df.iloc[:,2:]\n",
    "df_2.drop(\"2013\", inplace=True, axis=1)"
   ]
  },
  {
   "cell_type": "code",
   "execution_count": 106,
   "id": "027ab146-f282-400a-94c3-2cfd02a405c4",
   "metadata": {},
   "outputs": [],
   "source": [
    "#verificar los años de los VKT y los años de las velocidades, deben calzar\n",
    "def merger(df1,df2):\n",
    "    dfm = df1.merge(df2, left_on=[\"Región\", \"Ámbito\", \"Categoría\", \"Motorizacion\", \"Norma\"], right_on=[\"Region\", \"Ambito\", \"Modo\", \"Motorizacion\", \"Norma\"], how=\"left\")\n",
    "    dfm = dfm.fillna(0)\n",
    "    df_f = pd.DataFrame(dfm.loc[:,\"2014_x\":\"2050\"].values*dfm.loc[:,\"2014_y\":2050].values, columns=dfm.iloc[:,47:84].columns, index=dfm.index)\n",
    "    df_f = pd.concat([dfm.iloc[:,:6],df_f],axis=1)\n",
    "    df_f[\"Unidad\"]=\"[gr/año]\"\n",
    "    return df_f"
   ]
  },
  {
   "cell_type": "code",
   "execution_count": 107,
   "id": "6d73d99d-4f92-4e93-b6c6-30ad070eccd5",
   "metadata": {},
   "outputs": [],
   "source": [
    "EF_CO = EF.iloc[:,1:-10][EF[\"Pollutant\"]==\"CO\"]\n",
    "EF_CH4 = EF.iloc[:,1:-10][EF[\"Pollutant\"]==\"CH4\"]\n",
    "EF_NOx = EF.iloc[:,1:-10][EF[\"Pollutant\"]==\"NOx\"]\n",
    "EF_CO2 = EF.iloc[:,1:-10][EF[\"Pollutant\"]==\"CO2\"]\n",
    "EF_SOx = EF.iloc[:,1:-10][EF[\"Pollutant\"]==\"SOx\"]\n",
    "EF_PM = EF.iloc[:,1:-10][EF[\"Pollutant\"]==\"PM Exhaust\"]"
   ]
  },
  {
   "cell_type": "code",
   "execution_count": 114,
   "id": "10e01fc6-0c1b-4a55-ae9f-64e70f23bfd8",
   "metadata": {},
   "outputs": [],
   "source": [
    "dfm = df_2.merge(EF_CO, left_on=[\"Región\", \"Ámbito\", \"Categoría\", \"Motorizacion\", \"Norma\"], right_on=[\"Region\", \"Ambito\", \"Modo\", \"Motorizacion\", \"Norma\"], how=\"left\")\n",
    "dfm=dfm.fillna(0)\n",
    "df_CO = pd.DataFrame(dfm.iloc[:,6:43].values*dfm.loc[:,\"2014_y\":2050].values, columns=dfm.iloc[:,47:84].columns, index=dfm.index)\n",
    "df_CO = pd.concat([dfm.iloc[:,:6],df_CO],axis=1)\n",
    "df_CO[\"Unidad\"]=\"[gr/año]\"\n",
    "df_CO\n",
    "EM_CO = merger(df_2,EF_CO)\n",
    "EM_CH4 = merger(df_2,EF_CH4)\n",
    "EM_NOx = merger(df_2,EF_NOx)\n",
    "EM_CO2 = merger(df_2,EF_CO2)\n",
    "EM_SOx = merger(df_2,EF_SOx)\n",
    "EM_PM = merger(df_2,EF_PM)"
   ]
  },
  {
   "cell_type": "code",
   "execution_count": 113,
   "id": "b4e069a1-d7ef-4912-b563-25d6789049b8",
   "metadata": {},
   "outputs": [],
   "source": [
    "EM_CO2.to_excel(\"EM_CO2.xlsx\")"
   ]
  },
  {
   "cell_type": "code",
   "execution_count": null,
   "id": "687441ce-a6c8-4511-ad4e-2c6d6b491c82",
   "metadata": {},
   "outputs": [],
   "source": []
  },
  {
   "cell_type": "code",
   "execution_count": null,
   "id": "b4dbcd27-69fa-48cf-9110-4cb1516d7ed3",
   "metadata": {},
   "outputs": [],
   "source": []
  }
 ],
 "metadata": {
  "kernelspec": {
   "display_name": "Python 3",
   "language": "python",
   "name": "python3"
  },
  "language_info": {
   "codemirror_mode": {
    "name": "ipython",
    "version": 3
   },
   "file_extension": ".py",
   "mimetype": "text/x-python",
   "name": "python",
   "nbconvert_exporter": "python",
   "pygments_lexer": "ipython3",
   "version": "3.8.8"
  }
 },
 "nbformat": 4,
 "nbformat_minor": 5
}
